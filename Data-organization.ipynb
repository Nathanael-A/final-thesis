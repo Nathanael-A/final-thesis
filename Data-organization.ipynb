{
 "cells": [
  {
   "cell_type": "code",
   "execution_count": 28,
   "metadata": {},
   "outputs": [],
   "source": [
    "import os, glob\n",
    "import sys\n",
    "import copy \n",
    "import pydicom\n",
    "import scipy\n",
    "import scipy.misc\n",
    "import numpy as np\n",
    "import cv2\n",
    "import imageio\n",
    "from scipy.ndimage import rotate\n",
    "from PIL import Image\n",
    "from zipfile import ZipFile\n",
    "import shutil"
   ]
  },
  {
   "cell_type": "markdown",
   "metadata": {},
   "source": [
    "### Manipulating dataset\n"
   ]
  },
  {
   "cell_type": "code",
   "execution_count": 29,
   "metadata": {},
   "outputs": [],
   "source": [
    "dataset_path = \"Dataset\""
   ]
  },
  {
   "cell_type": "code",
   "execution_count": 30,
   "metadata": {},
   "outputs": [],
   "source": [
    "\n",
    "with ZipFile(os.path.join(dataset_path,\"3Dircadb1.zip\"), 'r') as zipObj:\n",
    "        try:\n",
    "            zipObj.extractall(dataset_path)\n",
    "        except Exception as error:\n",
    "            print(error)"
   ]
  },
  {
   "cell_type": "code",
   "execution_count": 31,
   "metadata": {},
   "outputs": [],
   "source": [
    "def extract_zip_files(directory):\n",
    "    \"\"\"\n",
    "    Extract ZIP files within a directory.\n",
    "\n",
    "    Args:\n",
    "    directory (str): Path to the directory containing ZIP files.\n",
    "    \"\"\"\n",
    "    for dir_path in os.listdir(directory):\n",
    "        dir_full_path = os.path.join(directory, dir_path)\n",
    "\n",
    "        if os.path.isdir(dir_full_path):\n",
    "            # Extract PATIENT_DICOM.zip if it exists\n",
    "            patient_dicom_zip_path = os.path.join(dir_full_path, \"PATIENT_DICOM.zip\")\n",
    "            if os.path.isfile(patient_dicom_zip_path):\n",
    "                with ZipFile(patient_dicom_zip_path, 'r') as zipObj:\n",
    "                    zipObj.extractall(dir_full_path)\n",
    "                print(f\"Extracted PATIENT_DICOM.zip in {dir_path}\")\n",
    "\n",
    "            # Extract MASKS_DICOM.zip if it exists\n",
    "            masks_dicom_zip_path = os.path.join(dir_full_path, \"MASKS_DICOM.zip\")\n",
    "            if os.path.isfile(masks_dicom_zip_path):\n",
    "                with ZipFile(masks_dicom_zip_path, 'r') as zipObj:\n",
    "                    zipObj.extractall(dir_full_path)\n",
    "                print(f\"Extracted MASKS_DICOM.zip in {dir_path}\")\n",
    "\n",
    "dataset_path = \"Dataset/3Dircadb1\"\n",
    "\n",
    "extract_zip_files(dataset_path)\n"
   ]
  },
  {
   "cell_type": "code",
   "execution_count": 33,
   "metadata": {},
   "outputs": [],
   "source": [
    "# Define the root directory where patient data is stored\n",
    "root_directory = \"Dataset/3Dircadb1\"\n",
    "\n",
    "# Iterate through top-level directories\n",
    "for folder in os.listdir(root_directory):\n",
    "    # Split the folder name to extract the patient's ID\n",
    "    patient_id = folder.split('db')[1]\n",
    "\n",
    "    folder_path = os.path.join(root_directory, folder)\n",
    "\n",
    "    # Check if it's a directory\n",
    "    if os.path.isdir(folder_path):\n",
    "        # Iterate through subdirectories\n",
    "        for subfolder in os.listdir(folder_path):\n",
    "            subfolder_path = os.path.join(folder_path, subfolder)\n",
    "\n",
    "            # Check if it's a directory\n",
    "            if os.path.isdir(subfolder_path):\n",
    "                # Iterate through sub-subdirectories\n",
    "                for sub_sub in os.listdir(subfolder_path):\n",
    "                    sub_sub_path = os.path.join(subfolder_path, sub_sub)\n",
    "\n",
    "                    # Check if it's a directory\n",
    "                    if os.path.isdir(sub_sub_path):\n",
    "                        # Iterate through files in the sub-subdirectory\n",
    "                        for image in os.listdir(sub_sub_path):\n",
    "                            src = os.path.join(sub_sub_path, image)\n",
    "                            dst = os.path.join(sub_sub_path, f\"{patient_id}_{image}\")\n",
    "                            os.rename(src, dst)\n",
    "                    \n",
    "                    # Rename the sub-subdirectory\n",
    "                    src = os.path.join(subfolder_path, sub_sub)\n",
    "                    dst = os.path.join(subfolder_path, f\"{patient_id}_{sub_sub}\")\n",
    "                    os.rename(src, dst)\n"
   ]
  },
  {
   "cell_type": "code",
   "execution_count": 34,
   "metadata": {},
   "outputs": [],
   "source": [
    "def create_directory(directory):\n",
    "    try:\n",
    "        os.mkdir(directory)\n",
    "    except OSError as error:\n",
    "        print(error)\n",
    "\n",
    "def organize_data(dataset_path, destination_path):\n",
    "    # Create the 'train' directory if it doesn't exist\n",
    "    create_directory(destination_path)\n",
    "\n",
    "    # Create 'patients' and 'masks' subdirectories\n",
    "    desired_scans_path = os.path.join(destination_path, \"patients\")\n",
    "    desired_masks_path = os.path.join(destination_path, \"masks\")\n",
    "    create_directory(desired_scans_path)\n",
    "    create_directory(desired_masks_path)\n",
    "\n",
    "    for patient_path in os.listdir(dataset_path):\n",
    "        patient_full_path = os.path.join(dataset_path, patient_path)\n",
    "\n",
    "        if os.path.isdir(patient_full_path):\n",
    "            # Process patient scans\n",
    "            patient_scans_path = os.path.join(patient_full_path, \"PATIENT_DICOM\")\n",
    "            if os.path.isdir(patient_scans_path):\n",
    "                for scan in os.listdir(patient_scans_path):\n",
    "                    src_scan_path = os.path.join(patient_scans_path, scan)\n",
    "                    dst_scan_path = os.path.join(desired_scans_path, scan)\n",
    "                    shutil.move(src_scan_path, dst_scan_path)\n",
    "\n",
    "            # Process patient masks\n",
    "            patient_masks_path = os.path.join(patient_full_path, \"MASKS_DICOM\")\n",
    "            if os.path.isdir(patient_masks_path):\n",
    "                for mask in os.listdir(patient_masks_path):\n",
    "                    src_mask_path = os.path.join(patient_masks_path, mask)\n",
    "                    dst_mask_path = os.path.join(desired_masks_path, mask)\n",
    "                    shutil.move(src_mask_path, dst_mask_path)\n",
    "\n",
    "    # Create 'merged_livertumors' subdirectory\n",
    "    merged_livertumors_path = os.path.join(desired_masks_path, \"merged_livertumors\")\n",
    "    create_directory(merged_livertumors_path)\n",
    "\n",
    "# Define the source dataset path and destination path\n",
    "dataset_path = \"Dataset/3Dircadb1\"\n",
    "destination_path = \"train\"\n",
    "\n",
    "# Organize the data\n",
    "organize_data(dataset_path, destination_path)\n"
   ]
  },
  {
   "cell_type": "code",
   "execution_count": 35,
   "metadata": {},
   "outputs": [],
   "source": [
    "# COUNT THE NUMBER OF SCANS FOR 1 PATIENT TO APPEND ON THEM\n",
    "def count_scans_startwith(directory, prefix):\n",
    "    count = 0\n",
    "    for file in os.listdir(directory):\n",
    "        if file.startswith(prefix+'_'):\n",
    "            count+=1\n",
    "    return count"
   ]
  },
  {
   "cell_type": "code",
   "execution_count": 36,
   "metadata": {},
   "outputs": [],
   "source": [
    "import os\n",
    "import numpy as np\n",
    "import pydicom\n",
    "from PIL import Image\n",
    "\n",
    "def merge_liver_tumors(scans_path, masks_path):\n",
    "    for scan_filename in os.listdir(scans_path):\n",
    "        # Extract patient ID from the scan filename\n",
    "        patient_id = scan_filename.split('_')[0]\n",
    "\n",
    "        # Initialize an empty tumor volume\n",
    "        merged_tumor_volume = None\n",
    "\n",
    "        # Iterate through mask directories to find liver tumor masks for the same patient\n",
    "        for mask_dir in os.listdir(masks_path):\n",
    "            if mask_dir.startswith(patient_id + '_livertumor'):\n",
    "                mask_file_path = os.path.join(masks_path, mask_dir, scan_filename)\n",
    "\n",
    "                # Read the mask DICOM file and convert it to a binary mask\n",
    "                tumor_mask = pydicom.dcmread(mask_file_path).pixel_array\n",
    "                tumor_mask = tumor_mask / 255.0\n",
    "                tumor_mask = np.clip(tumor_mask, 0, 1)\n",
    "\n",
    "                # Merge the tumor mask into the tumor volume\n",
    "                if merged_tumor_volume is None:\n",
    "                    merged_tumor_volume = tumor_mask\n",
    "                else:\n",
    "                    merged_tumor_volume = np.logical_or(merged_tumor_volume, tumor_mask)\n",
    "\n",
    "        # If no tumor masks were found for the patient, create an empty mask\n",
    "        if merged_tumor_volume is None:\n",
    "            merged_tumor_volume = np.zeros((512, 512))\n",
    "\n",
    "        # Convert the merged tumor volume to a grayscale image (0-255) and save it as a JPG file\n",
    "        merged_tumor_volume = (merged_tumor_volume * 255).astype(np.uint8)\n",
    "        merged_tumor_image = Image.fromarray(merged_tumor_volume)\n",
    "        merged_tumor_image.save(os.path.join(masks_path, 'merged_livertumors', scan_filename + '.jpg'))\n",
    "\n"
   ]
  },
  {
   "cell_type": "code",
   "execution_count": 37,
   "metadata": {},
   "outputs": [],
   "source": [
    "def reflect_dicom(src_img, src_mask, src_liver_mask, train_path, masks_path, liver_mask_path, patient_id, patient_imgs_count):\n",
    "    # Reflect the image horizontally\n",
    "    reflected_img = copy.deepcopy(src_img)\n",
    "    reflected_img.PixelData = np.fliplr(reflected_img.pixel_array).tobytes()\n",
    "\n",
    "    # Reflect the liver mask horizontally\n",
    "    reflected_liver_mask = copy.deepcopy(src_liver_mask)\n",
    "    reflected_liver_mask.PixelData = np.fliplr(reflected_liver_mask.pixel_array).tobytes()\n",
    "    reflected_liver_mask.save_as(os.path.join(liver_mask_path, f\"{patient_id}_image_{patient_imgs_count}_augref\"))\n",
    "\n",
    "    # Reflect the mask horizontally\n",
    "    reflected_mask = np.fliplr(src_mask)\n",
    "\n",
    "    # Save the reflected image\n",
    "    reflected_img.save_as(os.path.join(train_path, f\"{patient_id}_image_{patient_imgs_count}_augref\"))\n",
    "\n",
    "    # Save the reflected mask as a JPEG file\n",
    "    reflected_mask = reflected_mask.astype(np.uint8)\n",
    "    imageio.imwrite(os.path.join(masks_path, 'merged_livertumors', f\"{patient_id}_image_{patient_imgs_count}_augref.jpg\"), reflected_mask)\n",
    "\n",
    "def rotate_dicom(src_img, src_mask, src_liver_mask, train_path, masks_path, liver_mask_path, patient_id, patient_imgs_count, angle):\n",
    "    # Rotate the image and mask by the specified angle\n",
    "    rotated_img = copy.deepcopy(src_img)\n",
    "    rotated_img.PixelData = rotate(rotated_img.pixel_array, angle, reshape=False).tobytes()\n",
    "\n",
    "    # Rotate the liver mask\n",
    "    rotated_liver_mask = copy.deepcopy(src_liver_mask)\n",
    "    rotated_liver_mask.PixelData = rotate(rotated_liver_mask.pixel_array, angle, reshape=False).tobytes()\n",
    "    rotated_liver_mask.save_as(os.path.join(liver_mask_path, f\"{patient_id}_image_{patient_imgs_count}_augrot\"))\n",
    "\n",
    "    # Rotate the mask\n",
    "    rotated_mask = rotate(src_mask, angle, reshape=False)\n",
    "\n",
    "    # Save the rotated image\n",
    "    rotated_img.save_as(os.path.join(train_path, f\"{patient_id}_image_{patient_imgs_count}_augrot\"))\n",
    "\n",
    "    # Save the rotated mask as a JPEG file\n",
    "    rotated_mask = rotated_mask.astype(np.uint8)\n",
    "    imageio.imwrite(os.path.join(masks_path, 'merged_livertumors', f\"{patient_id}_image_{patient_imgs_count}_augrot.jpg\"), rotated_mask)\n",
    "\n",
    "\n"
   ]
  },
  {
   "cell_type": "code",
   "execution_count": 38,
   "metadata": {},
   "outputs": [],
   "source": [
    "# AUGMENT THE MASKS WITH TUMORS TO FIX CLASS IMBALANCING\n",
    "\n",
    "def augment_dicom(train_path, masks_path):\n",
    "    # Define a list of rotation angles (e.g., 10, 20, ..., 350 degrees)\n",
    "    rotation_angles = [angle for angle in range(90, 360, 90)]\n",
    "\n",
    "    # Get a list of DICOM scan files in the training path\n",
    "    train_files = os.listdir(train_path)\n",
    "\n",
    "    # Iterate through each scan file\n",
    "    for scan in train_files:\n",
    "        # Construct the path to the corresponding tumor mask image\n",
    "        mask_path = os.path.join(masks_path, 'merged_livertumors', scan + '.jpg')\n",
    "\n",
    "        # Load the tumor mask image using OpenCV\n",
    "        tumor_mask = cv2.imread(mask_path)\n",
    "\n",
    "        # Check if the tumor mask contains a tumor (i.e., pixel value of 1)\n",
    "        if 1 in tumor_mask:\n",
    "            # Extract the patient ID from the scan filename\n",
    "            patient_id = scan.split('_')[0]\n",
    "\n",
    "            # Count the number of scans for the same patient\n",
    "            patient_imgs_count = count_scans_startwith(train_path, patient_id)\n",
    "\n",
    "            # Load the original DICOM image and liver mask\n",
    "            original_img = pydicom.dcmread(os.path.join(train_path, scan))\n",
    "            liver_mask_path = os.path.join(masks_path, patient_id + '_liver')\n",
    "            liver_mask = pydicom.dcmread(os.path.join(liver_mask_path, scan))\n",
    "\n",
    "            # Apply reflection to the DICOM image and masks\n",
    "            reflect_dicom(original_img, tumor_mask, liver_mask, train_path, masks_path, liver_mask_path, patient_id, patient_imgs_count)\n",
    "\n",
    "            # Apply rotation with various angles to the DICOM image and masks\n",
    "            for angle in rotation_angles:\n",
    "                patient_imgs_count += 1\n",
    "                rotate_dicom(original_img, tumor_mask, liver_mask, train_path, masks_path, liver_mask_path, patient_id, patient_imgs_count, angle)\n",
    "\n"
   ]
  },
  {
   "cell_type": "code",
   "execution_count": 39,
   "metadata": {},
   "outputs": [
    {
     "name": "stdout",
     "output_type": "stream",
     "text": [
      "done\n"
     ]
    }
   ],
   "source": [
    "masks_path = os.path.join('train','masks')\n",
    "training_path = os.path.join('train','patients')\n",
    "\n",
    "merge_liver_tumors(training_path, masks_path)\n",
    "augment_dicom(training_path, masks_path)\n",
    "\n",
    "print('done')"
   ]
  },
  {
   "cell_type": "code",
   "execution_count": 40,
   "metadata": {},
   "outputs": [
    {
     "name": "stdout",
     "output_type": "stream",
     "text": [
      "20974\n"
     ]
    }
   ],
   "source": [
    "count = 0\n",
    "for mask in os.listdir(os.path.join(masks_path,'merged_livertumors')):\n",
    "#     print(mask)\n",
    "    tumor_mask = cv2.imread(os.path.join(masks_path,'merged_livertumors', mask))\n",
    "#     print(tumor_mask)\n",
    "    if 1 in tumor_mask:\n",
    "        count += 1\n",
    "print(count)\n",
    "# 568 without augmentation"
   ]
  },
  {
   "cell_type": "code",
   "execution_count": 41,
   "metadata": {},
   "outputs": [
    {
     "name": "stdout",
     "output_type": "stream",
     "text": [
      "done\n"
     ]
    }
   ],
   "source": [
    "# REMOVE AUGMENTED DATA\n",
    "for scan in os.listdir(training_path):\n",
    "    if scan.endswith('_augref') or scan.endswith('_augrot'):\n",
    "        os.remove(os.path.join(training_path,scan))\n",
    "\n",
    "for mask_dir in os.listdir(masks_path):\n",
    "    if mask_dir.endswith('liver'):\n",
    "        mask_dir_path = os.path.join(masks_path, mask_dir)\n",
    "        for liver_mask in os.listdir(mask_dir_path):\n",
    "            if liver_mask.endswith('augref') or liver_mask.endswith('augrot') or liver_mask.endswith('aug'):\n",
    "                os.remove(os.path.join(mask_dir_path, liver_mask))\n",
    "\n",
    "for mask in os.listdir(os.path.join(masks_path, 'merged_livertumors')):\n",
    "    if mask.endswith('_augref.jpg') or mask.endswith('augrot.jpg'):\n",
    "        os.remove(os.path.join(masks_path, 'merged_livertumors', mask))\n",
    "print('done')"
   ]
  },
  {
   "cell_type": "code",
   "execution_count": null,
   "metadata": {},
   "outputs": [],
   "source": []
  },
  {
   "cell_type": "code",
   "execution_count": null,
   "metadata": {},
   "outputs": [],
   "source": []
  }
 ],
 "metadata": {
  "kernelspec": {
   "display_name": "Python 3 (ipykernel)",
   "language": "python",
   "name": "python3"
  },
  "language_info": {
   "codemirror_mode": {
    "name": "ipython",
    "version": 3
   },
   "file_extension": ".py",
   "mimetype": "text/x-python",
   "name": "python",
   "nbconvert_exporter": "python",
   "pygments_lexer": "ipython3",
   "version": "3.11.5"
  }
 },
 "nbformat": 4,
 "nbformat_minor": 2
}
